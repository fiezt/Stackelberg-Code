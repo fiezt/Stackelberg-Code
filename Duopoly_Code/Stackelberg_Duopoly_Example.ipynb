{
 "cells": [
  {
   "cell_type": "code",
   "execution_count": null,
   "metadata": {},
   "outputs": [],
   "source": [
    "from __future__ import division\n",
    "from __future__ import print_function\n",
    "import numpy as np\n",
    "from duopoly_functions import omega1_zero, omega2_zero, fast_leader_zero, leader_zero\n",
    "from duopoly_functions import follower_zero, find_critical_points, find_nash_points, find_stackelberg_points\n",
    "from duopoly_sim_functions import simulate_many_and_plot\n",
    "from duopoly_sim_functions import simulate_gd, simulate_stackelberg\n",
    "from duopoly_figure_functions import plot_history, plot_cost, plot_instance\n",
    "%load_ext autoreload\n",
    "%autoreload 2"
   ]
  },
  {
   "cell_type": "code",
   "execution_count": null,
   "metadata": {},
   "outputs": [],
   "source": [
    "A = 100\n",
    "c_1 = 5\n",
    "c_2 = 2\n",
    "\n",
    "omega_1_zero = omega1_zero(A, c_1, c_2)\n",
    "omega_2_zero = omega2_zero(A, c_1, c_2)\n",
    "critical_points = find_critical_points(omega_1_zero, omega_2_zero)\n",
    "nash_points = find_nash_points(critical_points, A, c_1, c_2)\n",
    "\n",
    "l_zero = leader_zero(A, c_1, c_2)\n",
    "f_zero = follower_zero(A, c_1, c_2)\n",
    "stackelberg_critical_points = find_critical_points(l_zero, f_zero)\n",
    "stackelberg_points = find_stackelberg_points(stackelberg_critical_points, A, c_1, c_2)\n",
    "\n",
    "lr_fast = lambda t: 1/(t+1)\n",
    "lr_slow = lambda t: 1/(t+1)\n",
    "\n",
    "sim_function = simulate_gd\n",
    "np.random.seed(1)\n",
    "history_nash = simulate_many_and_plot(lr_fast, lr_slow, A, c_1, c_2, sim_function, nash_points, \n",
    "                                   critical_points, omega_1_zero, omega_2_zero, \n",
    "                                   n=1, return_history=True)\n",
    "\n",
    "\n",
    "lr_fast = lambda t: 1/(t+1)\n",
    "lr_slow = lambda t: 1/(t**(2/3)+1)\n",
    "\n",
    "\n",
    "sim_function = simulate_stackelberg\n",
    "np.random.seed(1)\n",
    "history_stack = simulate_many_and_plot(lr_fast, lr_slow, A, c_1, c_2, sim_function, stackelberg_points, \n",
    "                                   stackelberg_critical_points, l_zero, f_zero, \n",
    "                                   n=1, return_history=True)\n",
    "histories = history_stack + history_nash\n",
    "equilibriums = [stackelberg_points.flatten()[:2], nash_points.flatten()[:2]]\n",
    "plot_history(histories, equilibriums)\n",
    "plot_cost(histories, A, c_1, c_2, equilibriums)\n",
    "\n",
    "\n"
   ]
  }
 ],
 "metadata": {
  "kernelspec": {
   "display_name": "Python [conda env:python27]",
   "language": "python",
   "name": "conda-env-python27-py"
  },
  "language_info": {
   "codemirror_mode": {
    "name": "ipython",
    "version": 2
   },
   "file_extension": ".py",
   "mimetype": "text/x-python",
   "name": "python",
   "nbconvert_exporter": "python",
   "pygments_lexer": "ipython2",
   "version": "2.7.16"
  }
 },
 "nbformat": 4,
 "nbformat_minor": 4
}
