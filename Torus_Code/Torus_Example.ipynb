{
 "cells": [
  {
   "cell_type": "code",
   "execution_count": null,
   "metadata": {},
   "outputs": [],
   "source": [
    "from __future__ import division\n",
    "from __future__ import print_function\n",
    "import numpy as np\n",
    "from torus_functions import omega1_zero, omega2_zero, fast_leader_zero, leader_zero\n",
    "from torus_functions import follower_zero, find_critical_points, find_stackelberg_points, find_nash_points\n",
    "from torus_sim_functions import simulate_many_and_plot\n",
    "from torus_sim_functions import simulate_gd, simulate_stackelberg\n",
    "from torus_figure_functions import plot_history, plot_cost\n",
    "%load_ext autoreload\n",
    "%autoreload 2"
   ]
  },
  {
   "cell_type": "code",
   "execution_count": null,
   "metadata": {},
   "outputs": [],
   "source": [
    "alpha_1 = 1.\n",
    "alpha_2 = 1.3\n",
    "phi_1 = np.pi/8\n",
    "phi_2 = np.pi/8"
   ]
  },
  {
   "cell_type": "code",
   "execution_count": null,
   "metadata": {},
   "outputs": [],
   "source": [
    "omega_1_zero = omega1_zero(alpha_1, phi_1)\n",
    "omega_2_zero = omega2_zero(alpha_2, phi_2)\n",
    "critical_points = find_critical_points(omega_1_zero, omega_2_zero)\n",
    "nash_points = find_nash_points(critical_points, alpha_1, alpha_2, phi_1, phi_2)\n",
    "\n",
    "array = omega_1_zero[1]\n",
    "unique_indices = []\n",
    "\n",
    "for i in np.unique(array):\n",
    "    unique_indices += np.where(array == i)[0][:4].tolist()\n",
    "\n",
    "omega_1_zero  = np.take(omega_1_zero[0], unique_indices), np.take(omega_1_zero[1], unique_indices)"
   ]
  },
  {
   "cell_type": "code",
   "execution_count": null,
   "metadata": {},
   "outputs": [],
   "source": [
    "l_zero = leader_zero(alpha_1, alpha_2, phi_1, phi_2)\n",
    "f_zero = follower_zero(alpha_2, phi_2)\n",
    "stackelberg_critical_points = find_critical_points(l_zero, f_zero)\n",
    "stackelberg_points = find_stackelberg_points(stackelberg_critical_points, alpha_1, alpha_2, phi_1, phi_2)"
   ]
  },
  {
   "cell_type": "code",
   "execution_count": null,
   "metadata": {},
   "outputs": [],
   "source": [
    "print(np.unique(np.round(nash_points, 2), axis=0))\n",
    "print(np.unique(np.round(stackelberg_points, 2), axis=0))\n",
    "\n",
    "from torus_functions import f1, f2\n",
    "\n",
    "for theta in np.unique(np.round(nash_points, 2), axis=0):\n",
    "    theta_1 = theta[0]\n",
    "    theta_2 = theta[1]\n",
    "    print(f1(theta_1, theta_2, alpha_1, phi_1), f2(theta_1, theta_2, alpha_2, phi_2))\n",
    "    \n",
    "for theta in np.unique(np.round(stackelberg_points, 2), axis=0):\n",
    "    theta_1 = theta[0]\n",
    "    theta_2 = theta[1]\n",
    "    print(f1(theta_1, theta_2, alpha_1, phi_1), f2(theta_1, theta_2, alpha_2, phi_2))"
   ]
  },
  {
   "cell_type": "code",
   "execution_count": null,
   "metadata": {},
   "outputs": [],
   "source": [
    "seeds = [8,12, 13]\n",
    "lr_fast = lambda t: 1/(t**(1/2)+1)\n",
    "lr_slow = lambda t: 1/(t**(1/2)+1)\n",
    "n = len(seeds)\n",
    "histories = simulate_many_and_plot(lr_fast, lr_slow, alpha_1, alpha_2, phi_1, phi_2, \n",
    "                        simulate_gd, nash_points, critical_points, omega_1_zero, \n",
    "                       omega_2_zero, n, seeds=seeds, return_history=True)\n"
   ]
  },
  {
   "cell_type": "code",
   "execution_count": null,
   "metadata": {},
   "outputs": [],
   "source": [
    "seeds = [8,12, 13]\n",
    "lr_fast = lambda t: 1/(t+1)\n",
    "lr_slow = lambda t: 1/(t**(1/2)+1)\n",
    "n = len(seeds)\n",
    "stack_histories = simulate_many_and_plot(lr_fast, lr_slow, alpha_1, alpha_2, phi_1, phi_2, \n",
    "                        simulate_stackelberg, stackelberg_points, \n",
    "                        stackelberg_critical_points, l_zero, f_zero, \n",
    "                       n, seeds=seeds, return_history=True)"
   ]
  },
  {
   "cell_type": "code",
   "execution_count": null,
   "metadata": {},
   "outputs": [],
   "source": [
    "history_joint = [stack_histories[0], histories[0]]\n",
    "equilibriums = []\n",
    "equilibriums.append(np.unique(np.round(stackelberg_points, 2), axis=0)[0])\n",
    "equilibriums.append(np.unique(np.round(nash_points, 2), axis=0)[0])\n",
    "\n",
    "plot_history(history_joint, equilibriums)\n",
    "plot_cost(history_joint, alpha_1, alpha_2, phi_1, phi_2, equilibriums)"
   ]
  }
 ],
 "metadata": {
  "kernelspec": {
   "display_name": "Python [conda env:python27]",
   "language": "python",
   "name": "conda-env-python27-py"
  },
  "language_info": {
   "codemirror_mode": {
    "name": "ipython",
    "version": 2
   },
   "file_extension": ".py",
   "mimetype": "text/x-python",
   "name": "python",
   "nbconvert_exporter": "python",
   "pygments_lexer": "ipython2",
   "version": "2.7.16"
  }
 },
 "nbformat": 4,
 "nbformat_minor": 4
}
